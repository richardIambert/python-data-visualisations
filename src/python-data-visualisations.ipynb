{
 "cells": [
  {
   "cell_type": "markdown",
   "id": "fbdedb96-5067-46de-a0f3-db9c404f068e",
   "metadata": {},
   "source": [
    "# Creating Data Visualisations Using Python\n",
    "\n",
    "Creating data visualisations in Python typically involves three key stages:\n",
    "\n",
    "1. Loading the dataset\n",
    "2. Cleaning and shaping the relevant data\n",
    "3. Visually presenting the insights\n",
    "\n",
    "> __Note__: We'll explore each of these stages using the [Kickstarter Projects dataset](https://www.kaggle.com/datasets/kemical/kickstarter-projects?select=ks-projects-201801.csv)."
   ]
  },
  {
   "cell_type": "markdown",
   "id": "55373cc6-aa4d-414e-9a8a-fc528d6e9412",
   "metadata": {},
   "source": [
    "## 1. Loading the Dataset\n",
    "\n",
    "### What happens at this stage?\n",
    "\n",
    "This is where we import our data into the Python environment.\n",
    "\n",
    "### What are some common data sources?\n",
    "\n",
    "We can load data stored in common file formats such as `.csv`, `.xlsx`, and `.json`. Data can also be loaded directly from databases.\n",
    "\n",
    "### Which Python libraries can be used for this task?\n",
    "\n",
    "- [pandas](https://pandas.pydata.org/docs/) – Used to read data from various file formats and return a DataFrame.\n",
    "- [openpyxl](https://openpyxl.readthedocs.io/en/stable/#documentation) or [xlrd](https://xlrd.readthedocs.io/en/latest/) – Useful for working with Excel files.\n",
    "- [sqlalchemy]() – An Object Relational Mapper (ORM) for Python that allows access to SQL databases and loading of data."
   ]
  },
  {
   "cell_type": "markdown",
   "id": "286b2e13-9872-4f94-bf81-2eb9ee8f0392",
   "metadata": {},
   "source": [
    "## 2. Cleaning and Shaping the Dataset\n",
    "\n",
    "### What happens at this stage?\n",
    "\n",
    "Here, we identify and extract data relevant to the insights we want to explore. We then clean and structure the data to ensure it is accurate, complete, and ready for analysis or visualisation. This process can include:\n",
    "\n",
    "- Handling missing values (df.dropna(), df.fillna())\n",
    "- Renaming or selecting specific columns\n",
    "- Changing data types (e.g., `df['date'] = pd.to_datetime(df['date'])`)\n",
    "- Filtering or grouping data\n",
    "- Merging or joining datasets\n",
    "\n",
    "### What tools and libraries are commonly used?\n",
    "\n",
    "- [pandas](https://pandas.pydata.org/docs/) – For powerful data manipulation and transformation\n",
    "- [numpy](https://numpy.org/doc/stable/) – For numerical operations and array-based computations"
   ]
  },
  {
   "cell_type": "markdown",
   "id": "0720c15b-c1a4-4130-9b3a-a02056b65fd1",
   "metadata": {},
   "source": [
    "## 3. Visually Presenting the Insights\n",
    "\n",
    "### What happens at this stage?\n",
    "\n",
    "This is where we use our cleaned and prepared data to create visual representations—such as charts and graphs—that help communicate the insights effectively.\n",
    "\n",
    "### Which libraries are commonly used for data visualisation?\n",
    "\n",
    "- [matplotlib](https://matplotlib.org/stable/index.html) – A foundational plotting library that provides fine-grained control, though it can be more verbose.\n",
    "- [seaborn](https://seaborn.pydata.org/tutorial.html) – Built on top of matplotlib, it offers a higher-level interface for creating statistical graphics.\n",
    "- [plotly]() – Allows creation of interactive and web-based visualisations.\n",
    "- [pandas](https://pandas.pydata.org/docs/) – Offers built-in plotting capabilities via .plot()."
   ]
  },
  {
   "cell_type": "code",
   "execution_count": null,
   "id": "3940f953-a2d3-40fb-a685-ae7f3170e466",
   "metadata": {},
   "outputs": [],
   "source": []
  }
 ],
 "metadata": {
  "kernelspec": {
   "display_name": "Python 3 (ipykernel)",
   "language": "python",
   "name": "python3"
  },
  "language_info": {
   "codemirror_mode": {
    "name": "ipython",
    "version": 3
   },
   "file_extension": ".py",
   "mimetype": "text/x-python",
   "name": "python",
   "nbconvert_exporter": "python",
   "pygments_lexer": "ipython3",
   "version": "3.13.0"
  }
 },
 "nbformat": 4,
 "nbformat_minor": 5
}
